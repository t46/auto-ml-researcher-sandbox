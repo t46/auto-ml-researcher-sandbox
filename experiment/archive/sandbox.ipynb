{
 "cells": [
  {
   "cell_type": "code",
   "execution_count": 3,
   "metadata": {},
   "outputs": [
    {
     "name": "stdout",
     "output_type": "stream",
     "text": [
      "This is response text:  (wiki_qa,default,medium)\n"
     ]
    }
   ],
   "source": [
    "from prompt2model.dataset_retriever import DescriptionDatasetRetriever\n",
    "from prompt2model.prompt_parser import MockPromptSpec, TaskType\n",
    "from prompt2model.prompt_parser import PromptBasedInstructionParser, TaskType\n",
    "\n",
    "from prompt2model.utils import api_tools\n",
    "# CHANGE THIS if you want to try a different model\n",
    "api_tools.default_api_agent = api_tools.APIAgent(model_name=\"gpt-3.5-turbo\", max_tokens=1000)\n",
    "\n",
    "retriever = DescriptionDatasetRetriever()\n",
    "\n",
    "task_type = TaskType.TEXT_GENERATION\n",
    "prompt_text = \"\"\"\n",
    "question answering\n",
    "\"\"\"\n",
    "prompt_spec = PromptBasedInstructionParser(task_type=TaskType.TEXT_GENERATION)\n",
    "prompt_spec._instruction = prompt_text\n",
    "\n",
    "sorted_dataset_list = retriever.retrieve_top_datasets(prompt_spec)\n",
    "retrieved_dataset_dict = None\n",
    "\n",
    "top_dataset_info = retriever.rerank_datasets(sorted_dataset_list, prompt_spec)"
   ]
  },
  {
   "cell_type": "code",
   "execution_count": 4,
   "metadata": {},
   "outputs": [
    {
     "data": {
      "text/plain": [
       "{'config_name': 'default',\n",
       " 'sample_row': '{\"question_id\": \"\\\\\"Q1\\\\\"\", \"question\": \"\\\\\"how are glacier caves formed?\\\\\"\", \"document_title\": \"\\\\\"Glacier cave\\\\\"\", \"answer\": \"\\\\\"A partly submerged glacier cave on Perito Moreno ...\", \"label\": \"0\"}',\n",
       " 'columns': ['question_id', 'question', 'document_title', 'answer', 'label'],\n",
       " 'columns_mapping': {'question_id': 'question_id',\n",
       "  'question': 'question',\n",
       "  'document_title': 'document_title',\n",
       "  'answer': 'answer',\n",
       "  'label': 'label'},\n",
       " 'dataset_description': 'Wiki Question Answering corpus from Microsoft\\n',\n",
       " 'dataset_name': 'wiki_qa'}"
      ]
     },
     "execution_count": 4,
     "metadata": {},
     "output_type": "execute_result"
    }
   ],
   "source": [
    "top_dataset_info"
   ]
  },
  {
   "cell_type": "code",
   "execution_count": 12,
   "metadata": {},
   "outputs": [
    {
     "name": "stdout",
     "output_type": "stream",
     "text": [
      "Available dataset configs ['default']\n"
     ]
    }
   ],
   "source": [
    "import datasets\n",
    "\n",
    "configs = datasets.get_dataset_config_names(top_dataset_info[\"dataset_name\"])\n",
    "print(f\"Available dataset configs {configs}\")"
   ]
  },
  {
   "cell_type": "code",
   "execution_count": 10,
   "metadata": {},
   "outputs": [
    {
     "data": {
      "text/plain": [
       "{'config_name': 'default',\n",
       " 'sample_row': '{\"question_id\": \"\\\\\"Q1\\\\\"\", \"question\": \"\\\\\"how are glacier caves formed?\\\\\"\", \"document_title\": \"\\\\\"Glacier cave\\\\\"\", \"answer\": \"\\\\\"A partly submerged glacier cave on Perito Moreno ...\", \"label\": \"0\"}',\n",
       " 'columns': ['question_id', 'question', 'document_title', 'answer', 'label'],\n",
       " 'columns_mapping': {'question_id': 'question_id',\n",
       "  'question': 'question',\n",
       "  'document_title': 'document_title',\n",
       "  'answer': 'answer',\n",
       "  'label': 'label'},\n",
       " 'dataset_description': 'Wiki Question Answering corpus from Microsoft\\n',\n",
       " 'dataset_name': 'wiki_qa'}"
      ]
     },
     "execution_count": 10,
     "metadata": {},
     "output_type": "execute_result"
    }
   ],
   "source": [
    "top_dataset_info"
   ]
  },
  {
   "cell_type": "code",
   "execution_count": 6,
   "metadata": {},
   "outputs": [],
   "source": [
    "import openai\n",
    "prompt = \"say hello\"\n",
    "response = openai.ChatCompletion.create(\n",
    "    model=\"gpt-3.5-turbo\",\n",
    "    messages=[\n",
    "        {\"role\": \"system\", \"content\": \"You are a helpful assistant.\"},\n",
    "        {\"role\": \"user\", \"content\": prompt}\n",
    "    ],\n",
    "    max_tokens=100,\n",
    "    n=1,\n",
    "    stop=None,\n",
    "    temperature=0.7,\n",
    ")"
   ]
  },
  {
   "cell_type": "code",
   "execution_count": 7,
   "metadata": {},
   "outputs": [
    {
     "data": {
      "text/plain": [
       "603"
      ]
     },
     "execution_count": 7,
     "metadata": {},
     "output_type": "execute_result"
    }
   ],
   "source": [
    "api_tools.count_tokens_from_string(prompt_text)"
   ]
  }
 ],
 "metadata": {
  "kernelspec": {
   "display_name": "base",
   "language": "python",
   "name": "python3"
  },
  "language_info": {
   "codemirror_mode": {
    "name": "ipython",
    "version": 3
   },
   "file_extension": ".py",
   "mimetype": "text/x-python",
   "name": "python",
   "nbconvert_exporter": "python",
   "pygments_lexer": "ipython3",
   "version": "3.10.13"
  }
 },
 "nbformat": 4,
 "nbformat_minor": 2
}
